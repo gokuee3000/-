{
 "cells": [
  {
   "cell_type": "code",
   "execution_count": 149,
   "metadata": {},
   "outputs": [],
   "source": [
    "from keras.preprocessing.image import load_img,img_to_array"
   ]
  },
  {
   "cell_type": "code",
   "execution_count": 150,
   "metadata": {},
   "outputs": [],
   "source": [
    "target_image_path = 'img/pxx.jpg'\n",
    "style_reference_image_path = 'img/timg7.jpg'"
   ]
  },
  {
   "cell_type": "code",
   "execution_count": 151,
   "metadata": {},
   "outputs": [],
   "source": [
    "width,height = load_img(target_image_path).size\n",
    "img_height = 400\n",
    "img_width = int(width*img_height/height)"
   ]
  },
  {
   "cell_type": "code",
   "execution_count": 152,
   "metadata": {},
   "outputs": [],
   "source": [
    "import numpy as np\n",
    "from keras.applications import vgg19"
   ]
  },
  {
   "cell_type": "code",
   "execution_count": 153,
   "metadata": {},
   "outputs": [],
   "source": [
    "def preprocess_image(image_path):\n",
    "    img = load_img(image_path,target_size=(img_height,img_width))\n",
    "    img = img_to_array(img)\n",
    "    img = np.expand_dims(img,axis=0)\n",
    "    img = vgg19.preprocess_input(img)\n",
    "    return img"
   ]
  },
  {
   "cell_type": "code",
   "execution_count": 154,
   "metadata": {},
   "outputs": [],
   "source": [
    "def deprocess_image(x):\n",
    "    x[:,:,0] += 103.939\n",
    "    x[:,:,1] += 116.779\n",
    "    x[:,:,2] += 123.68\n",
    "    x = x[:,:,::-1]\n",
    "    x = np.clip(x,0,255).astype('uint8')\n",
    "    return x"
   ]
  },
  {
   "cell_type": "code",
   "execution_count": 155,
   "metadata": {},
   "outputs": [],
   "source": [
    "from keras import backend as K"
   ]
  },
  {
   "cell_type": "code",
   "execution_count": 156,
   "metadata": {},
   "outputs": [],
   "source": [
    "target_image = K.constant(preprocess_image(target_image_path))\n",
    "style_reference_image = K.constant(preprocess_image(style_reference_image_path))\n",
    "combination_image = K.placeholder((1,img_height,img_width,3))"
   ]
  },
  {
   "cell_type": "code",
   "execution_count": 157,
   "metadata": {},
   "outputs": [],
   "source": [
    "input_tensor = K.concatenate([target_image,\n",
    "                             style_reference_image,\n",
    "                             combination_image],axis=0)"
   ]
  },
  {
   "cell_type": "code",
   "execution_count": 158,
   "metadata": {},
   "outputs": [
    {
     "name": "stdout",
     "output_type": "stream",
     "text": [
      "Model loaded.\n"
     ]
    }
   ],
   "source": [
    "model = vgg19.VGG19(input_tensor = input_tensor,\n",
    "                   weights = 'imagenet',\n",
    "                   include_top = False)\n",
    "\n",
    "print('Model loaded.')"
   ]
  },
  {
   "cell_type": "code",
   "execution_count": 159,
   "metadata": {},
   "outputs": [],
   "source": [
    "def content_loss(base,combination):\n",
    "    return K.sum(K.square(combination - base))"
   ]
  },
  {
   "cell_type": "code",
   "execution_count": 160,
   "metadata": {},
   "outputs": [],
   "source": [
    "def gram_matrix(x):\n",
    "    features = K.batch_flatten(K.permute_dimensions(x,(2,0,1)))\n",
    "    gram = K.dot(features,K.transpose(features))\n",
    "    return gram"
   ]
  },
  {
   "cell_type": "code",
   "execution_count": 161,
   "metadata": {},
   "outputs": [],
   "source": [
    "def style_loss(style,combination):\n",
    "    S = gram_matrix(style)\n",
    "    C = gram_matrix(combination)\n",
    "    channels = 3\n",
    "    size = img_height * img_width\n",
    "    return K.sum(K.square(S - C))/ (4. * (channels ** 2) * (size ** 2))"
   ]
  },
  {
   "cell_type": "code",
   "execution_count": 162,
   "metadata": {},
   "outputs": [],
   "source": [
    "def total_variation_loss(x):\n",
    "    a = K.square(\n",
    "        x[:,:img_height - 1, :img_width - 1, :] - x[:, 1:,:img_width - 1, :])\n",
    "    b = K.square(\n",
    "        x[:,:img_height - 1, :img_width - 1, :] - x[:, :img_height - 1, 1:,:])\n",
    "    return K.sum(K.pow(a + b,1.25))"
   ]
  },
  {
   "cell_type": "code",
   "execution_count": 163,
   "metadata": {},
   "outputs": [],
   "source": [
    "outputs_dict = dict([(layer.name,layer.output) for layer in model.layers])\n",
    "content_layer = 'block5_conv2'\n",
    "style_layers = ['block1_conv1',\n",
    "              'block2_conv1',\n",
    "              'block3_conv1',\n",
    "              'block4_conv1',\n",
    "              'block5_conv1']\n",
    "total_variation_weight = 1e-4\n",
    "style_weight = 1.\n",
    "content_weight = 0.023"
   ]
  },
  {
   "cell_type": "code",
   "execution_count": 164,
   "metadata": {},
   "outputs": [
    {
     "name": "stdout",
     "output_type": "stream",
     "text": [
      "WARNING:tensorflow:Variable += will be deprecated. Use variable.assign_add if you want assignment to the variable value or 'x = x + y' if you want a new python Tensor object.\n"
     ]
    }
   ],
   "source": [
    "loss = K.variable(0.)\n",
    "layer_features = outputs_dict[content_layer]\n",
    "target_image_features = layer_features[0,:,:,:]\n",
    "combination_features = layer_features[2,:,:,:]\n",
    "\n",
    "loss += content_weight * content_loss(target_image_features,combination_features)"
   ]
  },
  {
   "cell_type": "code",
   "execution_count": 165,
   "metadata": {},
   "outputs": [],
   "source": [
    " for layer_name in style_layers:\n",
    "    layer_features = outputs_dict[layer_name]\n",
    "    style_reference_features = layer_features[1,:,:,:]\n",
    "    combination_features = layer_features[2,:,:,:]\n",
    "    sl = style_loss(style_reference_features,combination_features)\n",
    "    \n",
    "    loss += (style_weight / len(style_layers)) * sl\n",
    "\n",
    "loss += total_variation_weight * total_variation_loss(combination_image)"
   ]
  },
  {
   "cell_type": "code",
   "execution_count": 166,
   "metadata": {},
   "outputs": [],
   "source": [
    "grads = K.gradients(loss, combination_image)[0]\n",
    "fetch_loss_and_grads = K.function([combination_image],[loss, grads])\n",
    "\n",
    "class Evaluator(object):\n",
    "    def __init__(self):\n",
    "        self.loss_value = None\n",
    "        self.grads_values = None\n",
    "    def loss(self,x):\n",
    "        assert self.loss_value is None\n",
    "        x = x.reshape((1,img_height,img_width,3))\n",
    "        outs = fetch_loss_and_grads([x])\n",
    "        loss_value = outs[0]\n",
    "        grads_values = outs[1].flatten().astype('float64')\n",
    "        self.loss_value = loss_value\n",
    "        self.grads_values = grads_values\n",
    "        return self.loss_value\n",
    "    def grads(self,x):\n",
    "        assert self.loss_value is not None\n",
    "        grads_values = np.copy(self.grads_values)\n",
    "        self.loss_value = None\n",
    "        self.grads_values = None\n",
    "        return grads_values\n",
    "\n",
    "evaluator = Evaluator()"
   ]
  },
  {
   "cell_type": "code",
   "execution_count": 167,
   "metadata": {},
   "outputs": [],
   "source": [
    "from scipy.optimize import fmin_l_bfgs_b\n",
    "from scipy.misc import imsave\n",
    "import time"
   ]
  },
  {
   "cell_type": "code",
   "execution_count": 168,
   "metadata": {},
   "outputs": [
    {
     "name": "stdout",
     "output_type": "stream",
     "text": [
      "Start of iteartion 0\n",
      "Current loss value: 706742900.0\n",
      "Image saved as my_result_at_iteration_0.png\n",
      "Iteration 0 completed in 112s\n",
      "Start of iteartion 1\n"
     ]
    },
    {
     "name": "stderr",
     "output_type": "stream",
     "text": [
      "D:\\Anaconda3\\lib\\site-packages\\ipykernel_launcher.py:17: DeprecationWarning: `imsave` is deprecated!\n",
      "`imsave` is deprecated in SciPy 1.0.0, and will be removed in 1.2.0.\n",
      "Use ``imageio.imwrite`` instead.\n"
     ]
    },
    {
     "name": "stdout",
     "output_type": "stream",
     "text": [
      "Current loss value: 283624960.0\n",
      "Image saved as my_result_at_iteration_1.png\n",
      "Iteration 1 completed in 109s\n",
      "Start of iteartion 2\n",
      "Current loss value: 189325330.0\n",
      "Image saved as my_result_at_iteration_2.png\n",
      "Iteration 2 completed in 109s\n",
      "Start of iteartion 3\n",
      "Current loss value: 151226100.0\n",
      "Image saved as my_result_at_iteration_3.png\n",
      "Iteration 3 completed in 110s\n",
      "Start of iteartion 4\n",
      "Current loss value: 125318936.0\n",
      "Image saved as my_result_at_iteration_4.png\n",
      "Iteration 4 completed in 110s\n",
      "Start of iteartion 5\n",
      "Current loss value: 107015280.0\n",
      "Image saved as my_result_at_iteration_5.png\n",
      "Iteration 5 completed in 110s\n",
      "Start of iteartion 6\n",
      "Current loss value: 95874600.0\n",
      "Image saved as my_result_at_iteration_6.png\n",
      "Iteration 6 completed in 109s\n",
      "Start of iteartion 7\n",
      "Current loss value: 86227350.0\n",
      "Image saved as my_result_at_iteration_7.png\n",
      "Iteration 7 completed in 110s\n",
      "Start of iteartion 8\n",
      "Current loss value: 79285544.0\n",
      "Image saved as my_result_at_iteration_8.png\n",
      "Iteration 8 completed in 110s\n",
      "Start of iteartion 9\n",
      "Current loss value: 73807810.0\n",
      "Image saved as my_result_at_iteration_9.png\n",
      "Iteration 9 completed in 112s\n",
      "Start of iteartion 10\n",
      "Current loss value: 69720080.0\n",
      "Image saved as my_result_at_iteration_10.png\n",
      "Iteration 10 completed in 111s\n",
      "Start of iteartion 11\n",
      "Current loss value: 65722692.0\n",
      "Image saved as my_result_at_iteration_11.png\n",
      "Iteration 11 completed in 112s\n",
      "Start of iteartion 12\n",
      "Current loss value: 61919036.0\n",
      "Image saved as my_result_at_iteration_12.png\n",
      "Iteration 12 completed in 112s\n",
      "Start of iteartion 13\n",
      "Current loss value: 59007720.0\n",
      "Image saved as my_result_at_iteration_13.png\n",
      "Iteration 13 completed in 109s\n",
      "Start of iteartion 14\n",
      "Current loss value: 56058836.0\n",
      "Image saved as my_result_at_iteration_14.png\n",
      "Iteration 14 completed in 111s\n",
      "Start of iteartion 15\n",
      "Current loss value: 53549200.0\n",
      "Image saved as my_result_at_iteration_15.png\n",
      "Iteration 15 completed in 111s\n",
      "Start of iteartion 16\n",
      "Current loss value: 51367284.0\n",
      "Image saved as my_result_at_iteration_16.png\n",
      "Iteration 16 completed in 110s\n",
      "Start of iteartion 17\n",
      "Current loss value: 48897096.0\n",
      "Image saved as my_result_at_iteration_17.png\n",
      "Iteration 17 completed in 113s\n",
      "Start of iteartion 18\n",
      "Current loss value: 46894960.0\n",
      "Image saved as my_result_at_iteration_18.png\n",
      "Iteration 18 completed in 110s\n",
      "Start of iteartion 19\n",
      "Current loss value: 45600964.0\n",
      "Image saved as my_result_at_iteration_19.png\n",
      "Iteration 19 completed in 109s\n"
     ]
    }
   ],
   "source": [
    "result_prefix = 'my_result'\n",
    "iterations = 20\n",
    "\n",
    "x = preprocess_image(target_image_path)\n",
    "x = x.flatten()\n",
    "for i in range(iterations):\n",
    "    print('Start of iteartion',i)\n",
    "    start_time = time.time()\n",
    "    x,min_val,info = fmin_l_bfgs_b(evaluator.loss,\n",
    "                                  x,\n",
    "                                  fprime=evaluator.grads,\n",
    "                                  maxfun=20)\n",
    "    print('Current loss value:',min_val)\n",
    "    img = x.copy().reshape((img_height,img_width,3))\n",
    "    img = deprocess_image(img)\n",
    "    fname = result_prefix + '_at_iteration_%d.png' % i\n",
    "    imsave(fname,img)\n",
    "    print('Image saved as',fname)\n",
    "    end_time = time.time()\n",
    "    print('Iteration %d completed in %ds' % (i,end_time - start_time))"
   ]
  },
  {
   "cell_type": "code",
   "execution_count": null,
   "metadata": {},
   "outputs": [],
   "source": []
  },
  {
   "cell_type": "code",
   "execution_count": null,
   "metadata": {},
   "outputs": [],
   "source": []
  },
  {
   "cell_type": "code",
   "execution_count": null,
   "metadata": {},
   "outputs": [],
   "source": []
  },
  {
   "cell_type": "code",
   "execution_count": null,
   "metadata": {},
   "outputs": [],
   "source": []
  },
  {
   "cell_type": "code",
   "execution_count": null,
   "metadata": {},
   "outputs": [],
   "source": []
  },
  {
   "cell_type": "code",
   "execution_count": null,
   "metadata": {},
   "outputs": [],
   "source": []
  },
  {
   "cell_type": "code",
   "execution_count": null,
   "metadata": {},
   "outputs": [],
   "source": []
  },
  {
   "cell_type": "code",
   "execution_count": null,
   "metadata": {},
   "outputs": [],
   "source": []
  }
 ],
 "metadata": {
  "kernelspec": {
   "display_name": "Python 3",
   "language": "python",
   "name": "python3"
  },
  "language_info": {
   "codemirror_mode": {
    "name": "ipython",
    "version": 3
   },
   "file_extension": ".py",
   "mimetype": "text/x-python",
   "name": "python",
   "nbconvert_exporter": "python",
   "pygments_lexer": "ipython3",
   "version": "3.7.3"
  }
 },
 "nbformat": 4,
 "nbformat_minor": 2
}
